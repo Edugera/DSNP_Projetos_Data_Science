{
  "nbformat": 4,
  "nbformat_minor": 0,
  "metadata": {
    "colab": {
      "name": "Desafio1_kaggle.ipynb",
      "provenance": [],
      "collapsed_sections": [],
      "toc_visible": true,
      "authorship_tag": "ABX9TyPFQaUFSlmnT8rv+Fd5I1LV",
      "include_colab_link": true
    },
    "kernelspec": {
      "name": "python3",
      "display_name": "Python 3"
    }
  },
  "cells": [
    {
      "cell_type": "markdown",
      "metadata": {
        "id": "view-in-github",
        "colab_type": "text"
      },
      "source": [
        "<a href=\"https://colab.research.google.com/github/Edugera/DSNP_Projetos_Data_Science/blob/master/Desafio1_kaggle.ipynb\" target=\"_parent\"><img src=\"https://colab.research.google.com/assets/colab-badge.svg\" alt=\"Open In Colab\"/></a>"
      ]
    },
    {
      "cell_type": "markdown",
      "metadata": {
        "id": "n2gS_s9yoWYK",
        "colab_type": "text"
      },
      "source": [
        "### O começo de tudo\n",
        "Para iniciar como Cientista de Dados, comecei pelo curso DSNP - DATA SCIENCE NA PRÁTICA do Carlos Melo e lá tive a oportunidade de conhecer as competições no [Kaggle](https://www.kaggle.com/), e a primeira delas para introdução é a [Titanic](https://www.kaggle.com/c/titanic), para começar precisei de alguns tutoriais, a começar pelo site da [sigmoydal](https://sigmoidal.ai/), depois pelo vídeo da [Dr. Rachael Tatman](https://www.kaggle.com/c/titanic) e em seguida pelo passo-a-passo da [Alexis Cook](https://www.kaggle.com/alexisbcook/titanic-tutorial). Tentarei mostrar aqui o caminho feito e comentar os desafios.\n",
        "E o primeiro deles foi o de criar uma conta no Kaggle, isso foi feito seguindo os passos do curso DSNP, depois foi entrar na competição e importar os dados, então começarei a partir daqui.\n"
      ]
    },
    {
      "cell_type": "markdown",
      "metadata": {
        "id": "O3r1KwbDs9vi",
        "colab_type": "text"
      },
      "source": [
        "## Importação dos Dados\n"
      ]
    },
    {
      "cell_type": "code",
      "metadata": {
        "id": "H3pCs6RFic4j",
        "colab_type": "code",
        "colab": {
          "base_uri": "https://localhost:8080/",
          "height": 71
        },
        "outputId": "fc4c8ec9-123c-4b56-aee8-fca7f1f0e130"
      },
      "source": [
        "# importação dos pacotes\n",
        "import pandas as pd\n",
        "import numpy as np\n",
        "import matplotlib.pyplot as plt\n",
        "import seaborn as sns\n",
        "\n",
        "#visualizar as colunas\n",
        "pd.options.display.max_columns = None\n"
      ],
      "execution_count": 2,
      "outputs": [
        {
          "output_type": "stream",
          "text": [
            "/usr/local/lib/python3.6/dist-packages/statsmodels/tools/_testing.py:19: FutureWarning: pandas.util.testing is deprecated. Use the functions in the public API at pandas.testing instead.\n",
            "  import pandas.util.testing as tm\n"
          ],
          "name": "stderr"
        }
      ]
    },
    {
      "cell_type": "markdown",
      "metadata": {
        "id": "b6A1_IRBVnJ_",
        "colab_type": "text"
      },
      "source": [
        "## Ler os arquivos "
      ]
    },
    {
      "cell_type": "code",
      "metadata": {
        "id": "bArD3GkgULzL",
        "colab_type": "code",
        "colab": {}
      },
      "source": [
        "train = pd.read_csv('https://raw.githubusercontent.com/Edugera/DSNP_Projetos_Data_Science/master/train.csv')\n",
        "test = pd.read_csv('https://raw.githubusercontent.com/Edugera/DSNP_Projetos_Data_Science/master/test.csv')"
      ],
      "execution_count": 6,
      "outputs": []
    },
    {
      "cell_type": "markdown",
      "metadata": {
        "id": "qG5LehanVJys",
        "colab_type": "text"
      },
      "source": [
        "## Identificar as dimensões do arquivo\n",
        "O comando irá mostrar quantas variáveis (colunas) e quantas (linhas) possui o arquivo?"
      ]
    },
    {
      "cell_type": "code",
      "metadata": {
        "id": "A_xQe-WSUpr2",
        "colab_type": "code",
        "colab": {
          "base_uri": "https://localhost:8080/",
          "height": 51
        },
        "outputId": "d2481b36-1e41-4d70-ab51-2477fd4b8184"
      },
      "source": [
        "# verificando as dimensões do DataFrame\n",
        "print(\"Variáveis:\\t{}\\nEntradas:\\t{}\".format(train.shape[1],train.shape[0]))"
      ],
      "execution_count": 7,
      "outputs": [
        {
          "output_type": "stream",
          "text": [
            "Variáveis:\t12\n",
            "Entradas:\t891\n"
          ],
          "name": "stdout"
        }
      ]
    }
  ]
}